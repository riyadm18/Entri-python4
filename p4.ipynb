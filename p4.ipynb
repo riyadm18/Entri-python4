{
 "cells": [
  {
   "cell_type": "code",
   "execution_count": 2,
   "id": "bc52e97d-25e9-44d5-90c9-9d8549296e13",
   "metadata": {},
   "outputs": [],
   "source": [
    "def calculate(first, Second=10, Third=None):\n",
    "     if Third is None:\n",
    "        print (first + Second)\n",
    "     else:\n",
    "           print(first*Second*Third)"
   ]
  },
  {
   "cell_type": "code",
   "execution_count": 3,
   "id": "eaa220f3-73cd-4953-824c-7a8a9db95007",
   "metadata": {},
   "outputs": [
    {
     "name": "stdout",
     "output_type": "stream",
     "text": [
      "25\n",
      "610\n"
     ]
    }
   ],
   "source": [
    "calculate (5 + 10)\n",
    "calculate (5*6*20)"
   ]
  },
  {
   "cell_type": "code",
   "execution_count": 4,
   "id": "de1fd06f-e856-4c3f-9eff-ae11d5920b3f",
   "metadata": {},
   "outputs": [],
   "source": [
    "def filter_strings(strings):\n",
    " return [s for s in strings if len(s) >= 5]"
   ]
  },
  {
   "cell_type": "code",
   "execution_count": 5,
   "id": "5e7d145e-5452-4cc0-8503-46573070b04e",
   "metadata": {},
   "outputs": [
    {
     "name": "stdout",
     "output_type": "stream",
     "text": [
      "['hello', 'python', 'programming']\n"
     ]
    }
   ],
   "source": [
    "test_string = [\"hey\",\"hello\",\"python\",\"programming\",\"code\"]\n",
    "filtered_strings = filter_strings(test_string)\n",
    "print(filtered_strings)"
   ]
  },
  {
   "cell_type": "code",
   "execution_count": 6,
   "id": "fdc59d6f-aaa4-4012-8ac7-780b5a4165a3",
   "metadata": {},
   "outputs": [
    {
     "name": "stdout",
     "output_type": "stream",
     "text": [
      "Result is 17\n"
     ]
    }
   ],
   "source": [
    "expression = \"3 * 5 + 2\"\n",
    "result = eval (expression)\n",
    "print(\"Result is\",result)"
   ]
  },
  {
   "cell_type": "code",
   "execution_count": 7,
   "id": "4b030188-b246-45e4-bd6f-aebd45f27b0c",
   "metadata": {},
   "outputs": [],
   "source": [
    "def is_prime(num):\n",
    "    if num < 2:\n",
    "        return False\n",
    "    for i in range(2, int(num**0.5) + 1):\n",
    "        if num % i == 0:\n",
    "            return False\n",
    "    return True"
   ]
  },
  {
   "cell_type": "code",
   "execution_count": 8,
   "id": "48da71a5-109f-4232-be95-cf2951938480",
   "metadata": {},
   "outputs": [
    {
     "name": "stdout",
     "output_type": "stream",
     "text": [
      "Prime Numbers are [3, 7, 13, 31, 17]\n"
     ]
    }
   ],
   "source": [
    "numbers = [10, 3, 7, 20, 13, 25, 31, 40, 17]\n",
    "prime_numbers = list(filter(is_prime, numbers))\n",
    "print(\"Prime Numbers are\", prime_numbers)"
   ]
  },
  {
   "cell_type": "code",
   "execution_count": 9,
   "id": "4b0961cd-da99-405e-93c3-0e7591cc40ee",
   "metadata": {},
   "outputs": [
    {
     "name": "stdout",
     "output_type": "stream",
     "text": [
      "['APPLE', 'BANANA', 'CHERRY', 'DATE']\n"
     ]
    }
   ],
   "source": [
    "test_words = [\"apple\", \"banana\", \"cherry\", \"date\"]\n",
    "\n",
    "def to_uppercase(words):\n",
    "    uppercase_words = [word.upper() for word in words]\n",
    "    return uppercase_words\n",
    "uppercase_words = to_uppercase(test_words)\n",
    "print(uppercase_words)"
   ]
  },
  {
   "cell_type": "code",
   "execution_count": null,
   "id": "d62b62ba-2136-4fc1-a0fc-2a1d31e82c34",
   "metadata": {},
   "outputs": [],
   "source": []
  }
 ],
 "metadata": {
  "kernelspec": {
   "display_name": "Python [conda env:base] *",
   "language": "python",
   "name": "conda-base-py"
  },
  "language_info": {
   "codemirror_mode": {
    "name": "ipython",
    "version": 3
   },
   "file_extension": ".py",
   "mimetype": "text/x-python",
   "name": "python",
   "nbconvert_exporter": "python",
   "pygments_lexer": "ipython3",
   "version": "3.12.7"
  }
 },
 "nbformat": 4,
 "nbformat_minor": 5
}
